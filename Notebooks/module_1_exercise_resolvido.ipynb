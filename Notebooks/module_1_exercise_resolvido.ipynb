{
  "nbformat": 4,
  "nbformat_minor": 0,
  "metadata": {
    "colab": {
      "name": "module_1_exercise.ipynb",
      "provenance": [],
      "toc_visible": true,
      "collapsed_sections": []
    },
    "kernelspec": {
      "name": "python3",
      "display_name": "Python 3"
    }
  },
  "cells": [
    {
      "cell_type": "markdown",
      "metadata": {
        "id": "KJqp9AANOCtf"
      },
      "source": [
        "<img src=\"https://raw.githubusercontent.com/andre-marcos-perez/ebac-course-utils/main/media/logo/newebac_logo_black_half.png\" alt=\"ebac-logo\">\n",
        "\n",
        "---\n",
        "\n",
        "# **Módulo** | Python: Variáveis & Tipos de Dados\n",
        "Caderno de **Exercícios**<br> \n",
        "Professor [André Perez](https://www.linkedin.com/in/andremarcosperez/)\n",
        "\n",
        "---"
      ]
    },
    {
      "cell_type": "markdown",
      "metadata": {
        "id": "d9jDtUbDOE1-"
      },
      "source": [
        "# **Tópicos**\n",
        "\n",
        "<ol type=\"1\">\n",
        "  <li>Introdução ao Google Colab;</li>\n",
        "  <li>Variáveis;</li>\n",
        "  <li>Números;</li>\n",
        "  <li><i>Strings;</i></li>\n",
        "  <li>Boleanos.</li>\n",
        "</ol>"
      ]
    },
    {
      "cell_type": "markdown",
      "metadata": {
        "id": "SmoHgt-lwkpD"
      },
      "source": [
        "---"
      ]
    },
    {
      "cell_type": "markdown",
      "metadata": {
        "id": "GABI6OW8OfQ2"
      },
      "source": [
        "# **Exercícios**"
      ]
    },
    {
      "cell_type": "markdown",
      "metadata": {
        "id": "muD1vxozykSC"
      },
      "source": [
        "## 1\\. Google Colab"
      ]
    },
    {
      "cell_type": "markdown",
      "metadata": {
        "id": "ahrFfCuBxJKs"
      },
      "source": [
        "Crie uma célula de código que escreva o texto \"Olá mundo!\", utilize o comando `print`."
      ]
    },
    {
      "cell_type": "code",
      "source": [
        "print('Olá, Mundo!')"
      ],
      "metadata": {
        "colab": {
          "base_uri": "https://localhost:8080/"
        },
        "id": "7JGOsHLElNBr",
        "outputId": "739d30e8-6085-4ee3-a901-75d72d7b6208"
      },
      "execution_count": null,
      "outputs": [
        {
          "output_type": "stream",
          "name": "stdout",
          "text": [
            "Olá, Mundo\n"
          ]
        }
      ]
    },
    {
      "cell_type": "markdown",
      "source": [
        ""
      ],
      "metadata": {
        "id": "Vzg_ajYnmPBu"
      }
    },
    {
      "cell_type": "markdown",
      "metadata": {
        "id": "KI9zQRT2xa7m"
      },
      "source": [
        "Crie uma célua de texto e adicione uma imagem."
      ]
    },
    {
      "cell_type": "markdown",
      "source": [
        "Aluna: **Andréa Cristina Biavatti**\n",
        "\n",
        "![Design sem nome (27).png](data:image/png;base64,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)"
      ],
      "metadata": {
        "id": "mEZJm9nelVxo"
      }
    },
    {
      "cell_type": "markdown",
      "metadata": {
        "id": "zMN1Q3jdwoJm"
      },
      "source": [
        "---"
      ]
    },
    {
      "cell_type": "markdown",
      "metadata": {
        "id": "tFYOPLS3xiwe"
      },
      "source": [
        "## 2\\. Números"
      ]
    },
    {
      "cell_type": "markdown",
      "metadata": {
        "id": "O2G9gt7tx2c-"
      },
      "source": [
        "Preencha as células de código para preencher os valores de (A), (B) e (C) na tabela de ticket médio abaixo:\n",
        "\n",
        "<br>\n",
        "\n",
        "| Dia   | Valor Total Vendas | Qtd Total Vendas | Ticket Medio |\n",
        "|-------|--------------------|------------------|--------------|\n",
        "| 19/01 | (A)                | 3                | 320.52       |\n",
        "| 20/01 | 834.47             | (B)              | 119.21       |\n",
        "| 23/01 | 15378.12           | 5                | (C)          |"
      ]
    },
    {
      "cell_type": "code",
      "metadata": {
        "id": "nsrKH9EizNRD",
        "colab": {
          "base_uri": "https://localhost:8080/"
        },
        "outputId": "dccbb21d-358b-474a-a902-d06a40ef6e03"
      },
      "source": [
        "# (A)\n",
        "qtide_vendas = 3\n",
        "ticket_medio = 320.52\n",
        "vlr_tot_vendas = qtide_vendas * ticket_medio\n",
        "\n",
        "print(f'O valor de (A) é R$ {vlr_tot_vendas}')"
      ],
      "execution_count": 8,
      "outputs": [
        {
          "output_type": "stream",
          "name": "stdout",
          "text": [
            "O valor de (A) é R$ 961.56\n"
          ]
        }
      ]
    },
    {
      "cell_type": "code",
      "metadata": {
        "id": "QQ1GBGHJzMmi",
        "colab": {
          "base_uri": "https://localhost:8080/"
        },
        "outputId": "d3ca257d-f2e9-4c0a-eae3-4972158ac91d"
      },
      "source": [
        "# (B)\n",
        "vlr_tot_vendas = 834.47\n",
        "ticket_medio = 119.21\n",
        "qtide_vendas = int(vlr_tot_vendas / ticket_medio)\n",
        "\n",
        "print(f'O valor de (B) é {qtide_vendas}.')"
      ],
      "execution_count": 9,
      "outputs": [
        {
          "output_type": "stream",
          "name": "stdout",
          "text": [
            "O valor de (B) é 7.\n"
          ]
        }
      ]
    },
    {
      "cell_type": "code",
      "metadata": {
        "id": "W-li0nSMzKNa",
        "colab": {
          "base_uri": "https://localhost:8080/"
        },
        "outputId": "dc53c036-a42c-42eb-ca02-11fea1298e72"
      },
      "source": [
        "# (C)\n",
        "vlr_tot_vendas = 15378.12\n",
        "qtide_vendas = 5\n",
        "ticket_medio = (vlr_tot_vendas / qtide_vendas)\n",
        "\n",
        "print(f'O valor de (C) é R$ {ticket_medio:.2f}')"
      ],
      "execution_count": 16,
      "outputs": [
        {
          "output_type": "stream",
          "name": "stdout",
          "text": [
            "O valor de (C) é R$ 3075.62\n"
          ]
        }
      ]
    },
    {
      "cell_type": "markdown",
      "metadata": {
        "id": "3eoP-Vj9yzh8"
      },
      "source": [
        "---"
      ]
    },
    {
      "cell_type": "markdown",
      "metadata": {
        "id": "yUJ6kdony6Pr"
      },
      "source": [
        "## 3\\. Strings"
      ]
    },
    {
      "cell_type": "markdown",
      "metadata": {
        "id": "KDuZpg-5zCvO"
      },
      "source": [
        "Aplique três métodos distintos na *string* abaixo, você pode conferir alguns métodos neste [link](https://www.w3schools.com/python/python_ref_string.asp):"
      ]
    },
    {
      "cell_type": "code",
      "metadata": {
        "id": "k9zbyf7BzjKj",
        "colab": {
          "base_uri": "https://localhost:8080/"
        },
        "outputId": "2c30dbce-dea6-4767-b11e-f416b76755e2"
      },
      "source": [
        "cancao = 'Roda mundo, roda gigante, roda moinho, roda pião.'\n",
        "print(cancao.upper())\n",
        "\n",
        "posicao = cancao.find('roda gigante')\n",
        "print(posicao)\n",
        "\n",
        "print(cancao.replace('roda', ''))"
      ],
      "execution_count": 22,
      "outputs": [
        {
          "output_type": "stream",
          "name": "stdout",
          "text": [
            "RODA MUNDO, RODA GIGANTE, RODA MOINHO, RODA PIÃO.\n",
            "12\n",
            "Roda mundo,  gigante,  moinho,  pião.\n"
          ]
        }
      ]
    },
    {
      "cell_type": "markdown",
      "metadata": {
        "id": "guZMHXVq0FnC"
      },
      "source": [
        "Extraia da string abaixo o valor da taxa **selic** na variável `selic` e o valor do **ano** na variavel `ano`. Imprima os valores na tela."
      ]
    },
    {
      "cell_type": "code",
      "metadata": {
        "id": "cbx_P4IQ0agK",
        "colab": {
          "base_uri": "https://localhost:8080/"
        },
        "outputId": "cecc8fec-9c95-47f8-b64b-b41d04da6c95"
      },
      "source": [
        "noticia = 'Selic vai a 2,75% e supera expectativas; é a primeira alta em 6 anos.'\n",
        "selic = str(noticia[12:17])\n",
        "ano = int(noticia[-7])\n",
        "\n",
        "print(f'O valor da taxa selic é {selic}.')\n",
        "print(f'O valor do ano é {ano}.')"
      ],
      "execution_count": 37,
      "outputs": [
        {
          "output_type": "stream",
          "name": "stdout",
          "text": [
            "O valor da taxa selic é 2,75%.\n",
            "O valor do ano é 6.\n"
          ]
        }
      ]
    },
    {
      "cell_type": "markdown",
      "metadata": {
        "id": "wWzbu-OC0z3L"
      },
      "source": [
        "---"
      ]
    },
    {
      "cell_type": "markdown",
      "metadata": {
        "id": "no8w_Ati01xP"
      },
      "source": [
        "## 4\\. Booleanos"
      ]
    },
    {
      "cell_type": "markdown",
      "metadata": {
        "id": "D_0tC3SC099N"
      },
      "source": [
        "Utilize a tabela da verdade para responder: qual o valor da variável x?"
      ]
    },
    {
      "cell_type": "code",
      "metadata": {
        "id": "XwIEbxf91SpU",
        "colab": {
          "base_uri": "https://localhost:8080/"
        },
        "outputId": "8f15a019-7c7a-429b-a790-9f5ccd9b9806"
      },
      "source": [
        "a = False\n",
        "b = True\n",
        "\n",
        "x = not a & b\n",
        "print(x)"
      ],
      "execution_count": 38,
      "outputs": [
        {
          "output_type": "stream",
          "name": "stdout",
          "text": [
            "True\n"
          ]
        }
      ]
    }
  ]
}